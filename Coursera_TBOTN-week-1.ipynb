{
 "cells": [
  {
   "cell_type": "markdown",
   "metadata": {},
   "source": [
    "COURSERA CAPSTONE PROJECT - The Battle of the Neighborhoods - Week 1\n",
    "--------------------------------------------------\n"
   ]
  },
  {
   "cell_type": "markdown",
   "metadata": {},
   "source": [
    "PROBLEM DESCRIPTION:\n",
    "\n",
    "\n",
    "To set up a restaurant one needs to take into account the population density of a place, cost of setting up the establishment, availability of the ingredients, competitiors and many other factors.\n",
    "\n",
    "Not only that people may have varied preferences and tastes in food. This means it is important to note the variety of food also plays a big hand. \n",
    "\n",
    "Places people may visit regularly like public parks, corporate establishments, gyms, shopping malls, banks, etc are good places to setup a restaurant for a steady flow of customers, but are met with severe competition from other restaurants. \n",
    "\n",
    "Hence it is important choose the correct location to start its first venture.If this is successful they can replicate the same in other locations. First move is very important, thereby choice of location is very important.\n"
   ]
  },
  {
   "cell_type": "markdown",
   "metadata": {},
   "source": [
    "    "
   ]
  },
  {
   "cell_type": "markdown",
   "metadata": {},
   "source": [
    "\n",
    "BACKGROUND DESCRIPTION:\n",
    "\n",
    "The aim is to find the ideal place to set up a restaurant such that setup cost is low, competition is least, customers are high and place is ideal to start a new restaurant such that it is profitable for the restaurant owner and will help in reduction of risk.\n"
   ]
  },
  {
   "cell_type": "markdown",
   "metadata": {},
   "source": [
    "    "
   ]
  },
  {
   "cell_type": "markdown",
   "metadata": {},
   "source": [
    "\n",
    "DATA DESCRIPTION and HOW THE DATA WILL BE USED TO SOLVE THE PROBLEM :\n",
    "\n",
    "\n",
    "1) Location Data\n",
    "\n",
    "New York City map will be used for this project.\n",
    "link: https://geo.nyu.edu/catalog/nyu_2451_34572\n",
    "\n",
    "This New York City Neighborhood Names point file was created as a guide to New York City’s neighborhoods that appear on the web resource, “New York: A City of Neighborhoods.” Best estimates of label centroids were established at a 1:1,000 scale, but are ideally viewed at a 1:50,000 scale.\n",
    "\n",
    "Publisher: New York (City). Department of City Planning\n",
    "Place(s):  New York, New York, United States\n",
    "Preservation record: http://hdl.handle.net/2451/34572\n",
    "\n",
    "\n",
    "\n",
    "2) Consumer Product\n",
    "\n",
    "Farmer's market and Food boxes datset.\n",
    "link: https://data.cityofnewyork.us/dataset/DOHMH-Farmers-Markets-and-Food-Boxes/8vwk-6iz2\n",
    "\n",
    "\n",
    "This data is collected to help inform New Yorkers of the various farmers market locations around the city. These markets are physical sites where shoppers can purchase fresh-locally grown produce within the five boroughs. The Health Bucks program at the New York City Department collects this data from market to compile a list and a map of all New York City farmers markets and food box locations (map available on nyc.gov by searching \"\"farmers markets\"\"). \n",
    "The data is collected from market operators each spring and is updated upon hearing from market operators and community members about market closings, openings, updated hours of operation, and location changes. This data changes often and is only as accurate as the feedback we receive from farmers markets.\n",
    "This data changes frequently. Farmers markets and food box sites are indicated on this list only if information can be collected from the site. It may not be the most exhaustive list of farmers markets and food box sites in the city.\"\n",
    "Less\n",
    "\n",
    "\n",
    "\n",
    "3) Population Density in New York :\n",
    "\n",
    "New York City Demographics\n",
    "\n",
    "Cuisine of New York city\n",
    "\n",
    "link: https://en.wikipedia.org/wiki/Cuisine_of_New_York_City \n",
    "\n",
    "The cuisine of New York City comprises many cuisines belonging to various ethnic groups that have entered the United States through the city. Almost all ethnic cuisines are well represented in New York City, both within and outside the various ethnic neighborhoods. New York City was also the founding city of New York Restaurant Week which has spread around the world due to the discounted prices that such a deal offers.In New York City there are over 12,000 bodegas, delis and groceries and many among them are open 24/7\n",
    "\n",
    "\n",
    "4) Corporate buildings in New York :\n",
    "\n",
    "link : https://en.wikipedia.org/wiki/Economy_of_New_York_City\n",
    "\n",
    "The economy of New York City encompasses the largest municipal and regional economy in the United States. Anchored by Wall Street in Lower Manhattan, New York City has been characterized as the world's premier financial center. It is home to the New York Stock Exchange and NASDAQ, the world's two largest stock exchanges by both market capitalization and trading activity. In 2012, the New York metropolitan area generated a gross metropolitan product (GMP) of over US 1.33 trillion with a population of 20.3 million people. The Combined Statistical Area produced a GMP of over US 1.55 trillion. Both are ranked first nationally by a wide margin and being roughly equivalent to the GDP of South Korea. The city's economy accounts for most of the economic activity in both the states of New York and New Jersey.\n",
    "\n",
    "4) New York Venue Co-ordinates:\n",
    "\n",
    "Foursquare API to explore neighborhoods in New York City."
   ]
  },
  {
   "cell_type": "markdown",
   "metadata": {},
   "source": [
    "  "
   ]
  },
  {
   "cell_type": "markdown",
   "metadata": {},
   "source": [
    "HOW WILL DATA BE USED TO SOLVE PROBLEM?"
   ]
  },
  {
   "cell_type": "markdown",
   "metadata": {},
   "source": [
    "In order to segement the neighborhoods, we need a dataset that contains boroughs and their corresponding latitude and logitude coordinates of\n",
    "each neighborhood. This followed by k means algorithm to find neighbours\n"
   ]
  },
  {
   "cell_type": "code",
   "execution_count": null,
   "metadata": {},
   "outputs": [],
   "source": []
  }
 ],
 "metadata": {
  "kernelspec": {
   "display_name": "Python 3",
   "language": "python",
   "name": "python3"
  },
  "language_info": {
   "codemirror_mode": {
    "name": "ipython",
    "version": 3
   },
   "file_extension": ".py",
   "mimetype": "text/x-python",
   "name": "python",
   "nbconvert_exporter": "python",
   "pygments_lexer": "ipython3",
   "version": "3.5.6"
  }
 },
 "nbformat": 4,
 "nbformat_minor": 2
}
